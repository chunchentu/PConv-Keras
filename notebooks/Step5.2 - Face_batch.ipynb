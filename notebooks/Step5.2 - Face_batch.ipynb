{
 "cells": [
  {
   "cell_type": "markdown",
   "metadata": {},
   "source": [
    "# Image Prediction\n",
    "We want to be able to perform predictions on arbitrary image sizes, but the network has specifically been trained to process 512x512 images. Passing larger images takes up a lot of memory, so I thought that one way to get around that would be to chop up the image into 512x512 pieces, after which each piece is passed through the network and merged together afterwards. The end result is a method that works on arbitrary image sizes. This notebook is primarily for testing that this functionality works as intended."
   ]
  },
  {
   "cell_type": "code",
   "execution_count": 1,
   "metadata": {},
   "outputs": [
    {
     "name": "stderr",
     "output_type": "stream",
     "text": [
      "Using TensorFlow backend.\n"
     ]
    }
   ],
   "source": [
    "import os\n",
    "from copy import deepcopy\n",
    "import numpy as np\n",
    "import matplotlib.pyplot as plt\n",
    "from PIL import Image\n",
    "import pickle\n",
    "\n",
    "\n",
    "# Change to root path\n",
    "if os.path.basename(os.getcwd()) != 'PConv-Keras':\n",
    "    os.chdir('..')\n",
    "\n",
    "import fig_utils as u\n",
    "from libs.pconv_model import PConvUnet\n",
    "from libs.util import MaskGenerator, ImageChunker\n",
    "import scipy.io\n",
    "%load_ext autoreload\n",
    "%autoreload 2"
   ]
  },
  {
   "cell_type": "markdown",
   "metadata": {},
   "source": [
    "# Load face images"
   ]
  },
  {
   "cell_type": "code",
   "execution_count": 2,
   "metadata": {},
   "outputs": [],
   "source": [
    "# load original data\n",
    "data_root_path = \"tf_autozoom_2d_randVec20\"\n",
    "data_path = os.path.join(\"..\", data_root_path, \"all_test_results.pkl\")\n",
    "with open(data_path, \"rb\") as f:\n",
    "    d = pickle.load(f)\n",
    "df_test = d[\"df\"]\n",
    "true_test_x = d[\"true_x\"]\n",
    "true_test_y = d[\"true_y\"]\n",
    "adv_test_x = d[\"adv_x\"]\n",
    "diff_test_x = adv_test_x - true_test_x\n",
    "orig_pred_test = d[\"orig_pred\"]\n",
    "adv_pred_test = d[\"adv_pred\"]\n",
    "\n",
    "\n",
    "# load corrupted data and region\n",
    "with open(os.path.join(\"..\", \"corrupt_img\", \"test_corrupt_img.pkl\"), \"rb\") as f:\n",
    "    corrupted_test_x = pickle.load(f)\n",
    "with open(os.path.join(\"..\", \"corrupt_img\", \"test_corrupt_region.pkl\"), \"rb\") as f:\n",
    "    corrupted_test_region = pickle.load(f)\n",
    "with open(os.path.join(\"..\", \"corrupt_img\", \"test_rec_img.pkl\"), \"rb\") as f:\n",
    "    rec_test_x = pickle.load(f)"
   ]
  },
  {
   "cell_type": "markdown",
   "metadata": {},
   "source": [
    "# Model Loading\n",
    "We'll load the model trained on ImageNet"
   ]
  },
  {
   "cell_type": "code",
   "execution_count": 3,
   "metadata": {},
   "outputs": [],
   "source": [
    "from libs.pconv_model import PConvUnet\n",
    "model = PConvUnet(vgg_weights=None, inference_only=True)\n",
    "# model.load(r\"C:\\Users\\Mathias Felix Gruber\\Documents\\GitHub\\PConv-Keras\\data\\logs\\imagenet_phase2\\weights.26-1.07.h5\", train_bn=False)\n",
    "model.load(os.path.join(\"data\", \"logs\", \"pconv_imagenet.26-1.07.h5\"), train_bn=False)"
   ]
  },
  {
   "cell_type": "markdown",
   "metadata": {},
   "source": [
    "# Face inpainting function"
   ]
  },
  {
   "cell_type": "code",
   "execution_count": 4,
   "metadata": {},
   "outputs": [],
   "source": [
    "def prep_data(img):\n",
    "    result = np.dstack((img, img, img))\n",
    "    result = np.expand_dims(result, 0)\n",
    "    return result\n",
    "def img_rescale(img, target_dim):\n",
    "    return np.array(Image.fromarray((img * 255).astype(np.uint8)).resize((target_dim, target_dim)))/255\n",
    "\n",
    "def get_inpaint(target_id):\n",
    "    orig_img = true_test_x[:, target_id].reshape([32, 32]).T\n",
    "    corrupted_region = corrupted_test_region[target_id]\n",
    "    m = np.ones([32, 32], dtype=np.int32)\n",
    "    for (i, j) in corrupted_region:\n",
    "        m[j, i] = 0\n",
    "    rescale_img = img_rescale(orig_img, 512)\n",
    "    rescale_mask = img_rescale(m, 512)\n",
    "    rescale_img[rescale_mask==0] = 1\n",
    "\n",
    "    rescale_img = prep_data(rescale_img)\n",
    "    rescale_mask = prep_data(rescale_mask)\n",
    "    pred_imgs = model.predict([rescale_img, rescale_mask])\n",
    "    pred_imgs = np.mean(pred_imgs[0, :, :, :], 2)\n",
    "    \n",
    "    return img_rescale(pred_imgs, 32)"
   ]
  },
  {
   "cell_type": "code",
   "execution_count": 5,
   "metadata": {
    "scrolled": false
   },
   "outputs": [
    {
     "data": {
      "text/plain": [
       "<matplotlib.image.AxesImage at 0xb367939b0>"
      ]
     },
     "execution_count": 5,
     "metadata": {},
     "output_type": "execute_result"
    },
    {
     "data": {
      "image/png": "[encoded data removed]",
      "text/plain": [
       "<Figure size 432x288 with 1 Axes>"
      ]
     },
     "metadata": {
      "needs_background": "light"
     },
     "output_type": "display_data"
    }
   ],
   "source": [
    "result = get_inpaint(6)\n",
    "plt.imshow(result, cmap=\"gray\")"
   ]
  },
  {
   "cell_type": "markdown",
   "metadata": {},
   "source": [
    "# Face inpainting batch"
   ]
  },
  {
   "cell_type": "code",
   "execution_count": 6,
   "metadata": {},
   "outputs": [
    {
     "name": "stdout",
     "output_type": "stream",
     "text": [
      "Inpainting:\n",
      "0 1 2 3 4 5 6 7 8 9 10 11 12 13 14 15 16 17 18 19 20 21 22 23 24 25 26 27 28 29 30 31 32 33 34 35 36 37 38 39 40 41 42 43 44 45 46 47 48 49 50 51 52 53 54 55 56 57 58 59 60 61 62 63 64 65 66 67 68 69 70 71 72 73 74 75 76 77 78 79 80 81 82 83 84 85 86 87 88 89 90 91 92 93 94 95 96 97 98 99 "
     ]
    }
   ],
   "source": [
    "nvInpaint_test_x = np.zeros([1024, 100])\n",
    "print(\"Inpainting:\")\n",
    "for img_id in range(100):\n",
    "    print(\"{}\".format(img_id), end=\" \")\n",
    "    inpaint_x = get_inpaint(img_id)\n",
    "    nvInpaint_test_x[:, img_id] = inpaint_x.T.reshape([1024])"
   ]
  },
  {
   "cell_type": "code",
   "execution_count": 7,
   "metadata": {},
   "outputs": [],
   "source": [
    "scipy.io.savemat(os.path.join(\"..\", \"test_inpainting\", \"NV_inpaint_result\", \"NV_result_all.mat\"),\n",
    "                 {\"x_inpaint\": nvInpaint_test_x})"
   ]
  },
  {
   "cell_type": "code",
   "execution_count": null,
   "metadata": {},
   "outputs": [],
   "source": []
  }
 ],
 "metadata": {
  "kernelspec": {
   "display_name": "Python 3",
   "language": "python",
   "name": "python3"
  },
  "language_info": {
   "codemirror_mode": {
    "name": "ipython",
    "version": 3
   },
   "file_extension": ".py",
   "mimetype": "text/x-python",
   "name": "python",
   "nbconvert_exporter": "python",
   "pygments_lexer": "ipython3",
   "version": "3.6.7"
  },
  "toc": {
   "base_numbering": 1,
   "nav_menu": {},
   "number_sections": true,
   "sideBar": true,
   "skip_h1_title": false,
   "title_cell": "Table of Contents",
   "title_sidebar": "Contents",
   "toc_cell": false,
   "toc_position": {},
   "toc_section_display": true,
   "toc_window_display": false
  },
  "varInspector": {
   "cols": {
    "lenName": 16,
    "lenType": 16,
    "lenVar": 40
   },
   "kernels_config": {
    "python": {
     "delete_cmd_postfix": "",
     "delete_cmd_prefix": "del ",
     "library": "var_list.py",
     "varRefreshCmd": "print(var_dic_list())"
    },
    "r": {
     "delete_cmd_postfix": ") ",
     "delete_cmd_prefix": "rm(",
     "library": "var_list.r",
     "varRefreshCmd": "cat(var_dic_list()) "
    }
   },
   "types_to_exclude": [
    "module",
    "function",
    "builtin_function_or_method",
    "instance",
    "_Feature"
   ],
   "window_display": false
  }
 },
 "nbformat": 4,
 "nbformat_minor": 2
}
